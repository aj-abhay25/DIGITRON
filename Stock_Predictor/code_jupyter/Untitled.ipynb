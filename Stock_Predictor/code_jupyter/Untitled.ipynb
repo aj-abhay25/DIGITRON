{
 "cells": [
  {
   "cell_type": "code",
   "execution_count": null,
   "id": "59337549",
   "metadata": {},
   "outputs": [
    {
     "ename": "",
     "evalue": "",
     "output_type": "error",
     "traceback": [
      "\u001b[1;31mRunning cells with 'c:\\Users\\abhinav bhardwaj\\AppData\\Local\\Microsoft\\WindowsApps\\python3.9.exe' requires ipykernel package.\n",
      "\u001b[1;31mRun the following command to install 'ipykernel' into the Python environment. \n",
      "\u001b[1;31mCommand: '\"c:/Users/abhinav bhardwaj/AppData/Local/Microsoft/WindowsApps/python3.9.exe\" -m pip install ipykernel -U --user --force-reinstall'"
     ]
    }
   ],
   "source": [
    "import numpy as np\n",
    "import pandas as pd\n",
    "import matplotlib.pyplot as plt\n",
    "import pandas_datareader as data"
   ]
  },
  {
   "cell_type": "code",
   "execution_count": 2,
   "id": "9d4393d2",
   "metadata": {},
   "outputs": [
    {
     "data": {
      "text/html": [
       "<div>\n",
       "<style scoped>\n",
       "    .dataframe tbody tr th:only-of-type {\n",
       "        vertical-align: middle;\n",
       "    }\n",
       "\n",
       "    .dataframe tbody tr th {\n",
       "        vertical-align: top;\n",
       "    }\n",
       "\n",
       "    .dataframe thead th {\n",
       "        text-align: right;\n",
       "    }\n",
       "</style>\n",
       "<table border=\"1\" class=\"dataframe\">\n",
       "  <thead>\n",
       "    <tr style=\"text-align: right;\">\n",
       "      <th></th>\n",
       "      <th>High</th>\n",
       "      <th>Low</th>\n",
       "      <th>Open</th>\n",
       "      <th>Close</th>\n",
       "      <th>Volume</th>\n",
       "      <th>Adj Close</th>\n",
       "    </tr>\n",
       "    <tr>\n",
       "      <th>Date</th>\n",
       "      <th></th>\n",
       "      <th></th>\n",
       "      <th></th>\n",
       "      <th></th>\n",
       "      <th></th>\n",
       "      <th></th>\n",
       "    </tr>\n",
       "  </thead>\n",
       "  <tbody>\n",
       "    <tr>\n",
       "      <th>2007-01-03</th>\n",
       "      <td>3.092143</td>\n",
       "      <td>2.925000</td>\n",
       "      <td>3.081786</td>\n",
       "      <td>2.992857</td>\n",
       "      <td>1.238320e+09</td>\n",
       "      <td>2.555396</td>\n",
       "    </tr>\n",
       "    <tr>\n",
       "      <th>2007-01-04</th>\n",
       "      <td>3.069643</td>\n",
       "      <td>2.993571</td>\n",
       "      <td>3.001786</td>\n",
       "      <td>3.059286</td>\n",
       "      <td>8.472604e+08</td>\n",
       "      <td>2.612116</td>\n",
       "    </tr>\n",
       "    <tr>\n",
       "      <th>2007-01-05</th>\n",
       "      <td>3.078571</td>\n",
       "      <td>3.014286</td>\n",
       "      <td>3.063214</td>\n",
       "      <td>3.037500</td>\n",
       "      <td>8.347416e+08</td>\n",
       "      <td>2.593514</td>\n",
       "    </tr>\n",
       "    <tr>\n",
       "      <th>2007-01-08</th>\n",
       "      <td>3.090357</td>\n",
       "      <td>3.045714</td>\n",
       "      <td>3.070000</td>\n",
       "      <td>3.052500</td>\n",
       "      <td>7.971068e+08</td>\n",
       "      <td>2.606322</td>\n",
       "    </tr>\n",
       "    <tr>\n",
       "      <th>2007-01-09</th>\n",
       "      <td>3.320714</td>\n",
       "      <td>3.041071</td>\n",
       "      <td>3.087500</td>\n",
       "      <td>3.306071</td>\n",
       "      <td>3.349298e+09</td>\n",
       "      <td>2.822829</td>\n",
       "    </tr>\n",
       "  </tbody>\n",
       "</table>\n",
       "</div>"
      ],
      "text/plain": [
       "                High       Low      Open     Close        Volume  Adj Close\n",
       "Date                                                                       \n",
       "2007-01-03  3.092143  2.925000  3.081786  2.992857  1.238320e+09   2.555396\n",
       "2007-01-04  3.069643  2.993571  3.001786  3.059286  8.472604e+08   2.612116\n",
       "2007-01-05  3.078571  3.014286  3.063214  3.037500  8.347416e+08   2.593514\n",
       "2007-01-08  3.090357  3.045714  3.070000  3.052500  7.971068e+08   2.606322\n",
       "2007-01-09  3.320714  3.041071  3.087500  3.306071  3.349298e+09   2.822829"
      ]
     },
     "execution_count": 2,
     "metadata": {},
     "output_type": "execute_result"
    }
   ],
   "source": [
    "start = '2007-01-01'\n",
    "end = '2022-09-28'\n",
    "\n",
    "df = data.DataReader('AAPL', 'yahoo', start, end)\n",
    "df.head()"
   ]
  },
  {
   "cell_type": "code",
   "execution_count": 3,
   "id": "8e560cb9",
   "metadata": {},
   "outputs": [
    {
     "data": {
      "text/html": [
       "<div>\n",
       "<style scoped>\n",
       "    .dataframe tbody tr th:only-of-type {\n",
       "        vertical-align: middle;\n",
       "    }\n",
       "\n",
       "    .dataframe tbody tr th {\n",
       "        vertical-align: top;\n",
       "    }\n",
       "\n",
       "    .dataframe thead th {\n",
       "        text-align: right;\n",
       "    }\n",
       "</style>\n",
       "<table border=\"1\" class=\"dataframe\">\n",
       "  <thead>\n",
       "    <tr style=\"text-align: right;\">\n",
       "      <th></th>\n",
       "      <th>High</th>\n",
       "      <th>Low</th>\n",
       "      <th>Open</th>\n",
       "      <th>Close</th>\n",
       "      <th>Volume</th>\n",
       "      <th>Adj Close</th>\n",
       "    </tr>\n",
       "    <tr>\n",
       "      <th>Date</th>\n",
       "      <th></th>\n",
       "      <th></th>\n",
       "      <th></th>\n",
       "      <th></th>\n",
       "      <th></th>\n",
       "      <th></th>\n",
       "    </tr>\n",
       "  </thead>\n",
       "  <tbody>\n",
       "    <tr>\n",
       "      <th>2022-09-22</th>\n",
       "      <td>154.470001</td>\n",
       "      <td>150.910004</td>\n",
       "      <td>152.380005</td>\n",
       "      <td>152.740005</td>\n",
       "      <td>86652500.0</td>\n",
       "      <td>152.740005</td>\n",
       "    </tr>\n",
       "    <tr>\n",
       "      <th>2022-09-23</th>\n",
       "      <td>151.470001</td>\n",
       "      <td>148.559998</td>\n",
       "      <td>151.190002</td>\n",
       "      <td>150.429993</td>\n",
       "      <td>95939200.0</td>\n",
       "      <td>150.429993</td>\n",
       "    </tr>\n",
       "    <tr>\n",
       "      <th>2022-09-26</th>\n",
       "      <td>153.770004</td>\n",
       "      <td>149.639999</td>\n",
       "      <td>149.660004</td>\n",
       "      <td>150.770004</td>\n",
       "      <td>93339400.0</td>\n",
       "      <td>150.770004</td>\n",
       "    </tr>\n",
       "    <tr>\n",
       "      <th>2022-09-27</th>\n",
       "      <td>154.720001</td>\n",
       "      <td>149.949997</td>\n",
       "      <td>152.740005</td>\n",
       "      <td>151.759995</td>\n",
       "      <td>84442700.0</td>\n",
       "      <td>151.759995</td>\n",
       "    </tr>\n",
       "    <tr>\n",
       "      <th>2022-09-28</th>\n",
       "      <td>150.639999</td>\n",
       "      <td>144.839996</td>\n",
       "      <td>147.639999</td>\n",
       "      <td>149.839996</td>\n",
       "      <td>146514500.0</td>\n",
       "      <td>149.839996</td>\n",
       "    </tr>\n",
       "  </tbody>\n",
       "</table>\n",
       "</div>"
      ],
      "text/plain": [
       "                  High         Low        Open       Close       Volume  \\\n",
       "Date                                                                      \n",
       "2022-09-22  154.470001  150.910004  152.380005  152.740005   86652500.0   \n",
       "2022-09-23  151.470001  148.559998  151.190002  150.429993   95939200.0   \n",
       "2022-09-26  153.770004  149.639999  149.660004  150.770004   93339400.0   \n",
       "2022-09-27  154.720001  149.949997  152.740005  151.759995   84442700.0   \n",
       "2022-09-28  150.639999  144.839996  147.639999  149.839996  146514500.0   \n",
       "\n",
       "             Adj Close  \n",
       "Date                    \n",
       "2022-09-22  152.740005  \n",
       "2022-09-23  150.429993  \n",
       "2022-09-26  150.770004  \n",
       "2022-09-27  151.759995  \n",
       "2022-09-28  149.839996  "
      ]
     },
     "execution_count": 3,
     "metadata": {},
     "output_type": "execute_result"
    }
   ],
   "source": [
    "df.tail()"
   ]
  },
  {
   "cell_type": "code",
   "execution_count": 4,
   "id": "986284c3",
   "metadata": {},
   "outputs": [
    {
     "data": {
      "text/html": [
       "<div>\n",
       "<style scoped>\n",
       "    .dataframe tbody tr th:only-of-type {\n",
       "        vertical-align: middle;\n",
       "    }\n",
       "\n",
       "    .dataframe tbody tr th {\n",
       "        vertical-align: top;\n",
       "    }\n",
       "\n",
       "    .dataframe thead th {\n",
       "        text-align: right;\n",
       "    }\n",
       "</style>\n",
       "<table border=\"1\" class=\"dataframe\">\n",
       "  <thead>\n",
       "    <tr style=\"text-align: right;\">\n",
       "      <th></th>\n",
       "      <th>Date</th>\n",
       "      <th>High</th>\n",
       "      <th>Low</th>\n",
       "      <th>Open</th>\n",
       "      <th>Close</th>\n",
       "      <th>Volume</th>\n",
       "      <th>Adj Close</th>\n",
       "    </tr>\n",
       "  </thead>\n",
       "  <tbody>\n",
       "    <tr>\n",
       "      <th>0</th>\n",
       "      <td>2007-01-03</td>\n",
       "      <td>3.092143</td>\n",
       "      <td>2.925000</td>\n",
       "      <td>3.081786</td>\n",
       "      <td>2.992857</td>\n",
       "      <td>1.238320e+09</td>\n",
       "      <td>2.555396</td>\n",
       "    </tr>\n",
       "    <tr>\n",
       "      <th>1</th>\n",
       "      <td>2007-01-04</td>\n",
       "      <td>3.069643</td>\n",
       "      <td>2.993571</td>\n",
       "      <td>3.001786</td>\n",
       "      <td>3.059286</td>\n",
       "      <td>8.472604e+08</td>\n",
       "      <td>2.612116</td>\n",
       "    </tr>\n",
       "    <tr>\n",
       "      <th>2</th>\n",
       "      <td>2007-01-05</td>\n",
       "      <td>3.078571</td>\n",
       "      <td>3.014286</td>\n",
       "      <td>3.063214</td>\n",
       "      <td>3.037500</td>\n",
       "      <td>8.347416e+08</td>\n",
       "      <td>2.593514</td>\n",
       "    </tr>\n",
       "    <tr>\n",
       "      <th>3</th>\n",
       "      <td>2007-01-08</td>\n",
       "      <td>3.090357</td>\n",
       "      <td>3.045714</td>\n",
       "      <td>3.070000</td>\n",
       "      <td>3.052500</td>\n",
       "      <td>7.971068e+08</td>\n",
       "      <td>2.606322</td>\n",
       "    </tr>\n",
       "    <tr>\n",
       "      <th>4</th>\n",
       "      <td>2007-01-09</td>\n",
       "      <td>3.320714</td>\n",
       "      <td>3.041071</td>\n",
       "      <td>3.087500</td>\n",
       "      <td>3.306071</td>\n",
       "      <td>3.349298e+09</td>\n",
       "      <td>2.822829</td>\n",
       "    </tr>\n",
       "  </tbody>\n",
       "</table>\n",
       "</div>"
      ],
      "text/plain": [
       "        Date      High       Low      Open     Close        Volume  Adj Close\n",
       "0 2007-01-03  3.092143  2.925000  3.081786  2.992857  1.238320e+09   2.555396\n",
       "1 2007-01-04  3.069643  2.993571  3.001786  3.059286  8.472604e+08   2.612116\n",
       "2 2007-01-05  3.078571  3.014286  3.063214  3.037500  8.347416e+08   2.593514\n",
       "3 2007-01-08  3.090357  3.045714  3.070000  3.052500  7.971068e+08   2.606322\n",
       "4 2007-01-09  3.320714  3.041071  3.087500  3.306071  3.349298e+09   2.822829"
      ]
     },
     "execution_count": 4,
     "metadata": {},
     "output_type": "execute_result"
    }
   ],
   "source": [
    "df = df.reset_index()\n",
    "df.head()"
   ]
  },
  {
   "cell_type": "code",
   "execution_count": 5,
   "id": "53368f57",
   "metadata": {},
   "outputs": [
    {
     "data": {
      "text/html": [
       "<div>\n",
       "<style scoped>\n",
       "    .dataframe tbody tr th:only-of-type {\n",
       "        vertical-align: middle;\n",
       "    }\n",
       "\n",
       "    .dataframe tbody tr th {\n",
       "        vertical-align: top;\n",
       "    }\n",
       "\n",
       "    .dataframe thead th {\n",
       "        text-align: right;\n",
       "    }\n",
       "</style>\n",
       "<table border=\"1\" class=\"dataframe\">\n",
       "  <thead>\n",
       "    <tr style=\"text-align: right;\">\n",
       "      <th></th>\n",
       "      <th>High</th>\n",
       "      <th>Low</th>\n",
       "      <th>Open</th>\n",
       "      <th>Close</th>\n",
       "      <th>Volume</th>\n",
       "    </tr>\n",
       "  </thead>\n",
       "  <tbody>\n",
       "    <tr>\n",
       "      <th>0</th>\n",
       "      <td>3.092143</td>\n",
       "      <td>2.925000</td>\n",
       "      <td>3.081786</td>\n",
       "      <td>2.992857</td>\n",
       "      <td>1.238320e+09</td>\n",
       "    </tr>\n",
       "    <tr>\n",
       "      <th>1</th>\n",
       "      <td>3.069643</td>\n",
       "      <td>2.993571</td>\n",
       "      <td>3.001786</td>\n",
       "      <td>3.059286</td>\n",
       "      <td>8.472604e+08</td>\n",
       "    </tr>\n",
       "    <tr>\n",
       "      <th>2</th>\n",
       "      <td>3.078571</td>\n",
       "      <td>3.014286</td>\n",
       "      <td>3.063214</td>\n",
       "      <td>3.037500</td>\n",
       "      <td>8.347416e+08</td>\n",
       "    </tr>\n",
       "    <tr>\n",
       "      <th>3</th>\n",
       "      <td>3.090357</td>\n",
       "      <td>3.045714</td>\n",
       "      <td>3.070000</td>\n",
       "      <td>3.052500</td>\n",
       "      <td>7.971068e+08</td>\n",
       "    </tr>\n",
       "    <tr>\n",
       "      <th>4</th>\n",
       "      <td>3.320714</td>\n",
       "      <td>3.041071</td>\n",
       "      <td>3.087500</td>\n",
       "      <td>3.306071</td>\n",
       "      <td>3.349298e+09</td>\n",
       "    </tr>\n",
       "  </tbody>\n",
       "</table>\n",
       "</div>"
      ],
      "text/plain": [
       "       High       Low      Open     Close        Volume\n",
       "0  3.092143  2.925000  3.081786  2.992857  1.238320e+09\n",
       "1  3.069643  2.993571  3.001786  3.059286  8.472604e+08\n",
       "2  3.078571  3.014286  3.063214  3.037500  8.347416e+08\n",
       "3  3.090357  3.045714  3.070000  3.052500  7.971068e+08\n",
       "4  3.320714  3.041071  3.087500  3.306071  3.349298e+09"
      ]
     },
     "execution_count": 5,
     "metadata": {},
     "output_type": "execute_result"
    }
   ],
   "source": [
    "df = df.drop(['Date', 'Adj Close'], axis = 1)\n",
    "df.head()"
   ]
  },
  {
   "cell_type": "code",
   "execution_count": 6,
   "id": "728d6bf2",
   "metadata": {},
   "outputs": [
    {
     "data": {
      "text/plain": [
       "[<matplotlib.lines.Line2D at 0x1224aa22950>]"
      ]
     },
     "execution_count": 6,
     "metadata": {},
     "output_type": "execute_result"
    },
    {
     "data": {
      "image/png": "[encoded data removed]",
      "text/plain": [
       "<Figure size 640x480 with 1 Axes>"
      ]
     },
     "metadata": {},
     "output_type": "display_data"
    }
   ],
   "source": [
    "plt.plot(df.Close)"
   ]
  },
  {
   "cell_type": "code",
   "execution_count": 7,
   "id": "e06bda76",
   "metadata": {},
   "outputs": [
    {
     "data": {
      "text/html": [
       "<div>\n",
       "<style scoped>\n",
       "    .dataframe tbody tr th:only-of-type {\n",
       "        vertical-align: middle;\n",
       "    }\n",
       "\n",
       "    .dataframe tbody tr th {\n",
       "        vertical-align: top;\n",
       "    }\n",
       "\n",
       "    .dataframe thead th {\n",
       "        text-align: right;\n",
       "    }\n",
       "</style>\n",
       "<table border=\"1\" class=\"dataframe\">\n",
       "  <thead>\n",
       "    <tr style=\"text-align: right;\">\n",
       "      <th></th>\n",
       "      <th>High</th>\n",
       "      <th>Low</th>\n",
       "      <th>Open</th>\n",
       "      <th>Close</th>\n",
       "      <th>Volume</th>\n",
       "    </tr>\n",
       "  </thead>\n",
       "  <tbody>\n",
       "    <tr>\n",
       "      <th>0</th>\n",
       "      <td>3.092143</td>\n",
       "      <td>2.925000</td>\n",
       "      <td>3.081786</td>\n",
       "      <td>2.992857</td>\n",
       "      <td>1.238320e+09</td>\n",
       "    </tr>\n",
       "    <tr>\n",
       "      <th>1</th>\n",
       "      <td>3.069643</td>\n",
       "      <td>2.993571</td>\n",
       "      <td>3.001786</td>\n",
       "      <td>3.059286</td>\n",
       "      <td>8.472604e+08</td>\n",
       "    </tr>\n",
       "    <tr>\n",
       "      <th>2</th>\n",
       "      <td>3.078571</td>\n",
       "      <td>3.014286</td>\n",
       "      <td>3.063214</td>\n",
       "      <td>3.037500</td>\n",
       "      <td>8.347416e+08</td>\n",
       "    </tr>\n",
       "    <tr>\n",
       "      <th>3</th>\n",
       "      <td>3.090357</td>\n",
       "      <td>3.045714</td>\n",
       "      <td>3.070000</td>\n",
       "      <td>3.052500</td>\n",
       "      <td>7.971068e+08</td>\n",
       "    </tr>\n",
       "    <tr>\n",
       "      <th>4</th>\n",
       "      <td>3.320714</td>\n",
       "      <td>3.041071</td>\n",
       "      <td>3.087500</td>\n",
       "      <td>3.306071</td>\n",
       "      <td>3.349298e+09</td>\n",
       "    </tr>\n",
       "    <tr>\n",
       "      <th>...</th>\n",
       "      <td>...</td>\n",
       "      <td>...</td>\n",
       "      <td>...</td>\n",
       "      <td>...</td>\n",
       "      <td>...</td>\n",
       "    </tr>\n",
       "    <tr>\n",
       "      <th>3958</th>\n",
       "      <td>154.470001</td>\n",
       "      <td>150.910004</td>\n",
       "      <td>152.380005</td>\n",
       "      <td>152.740005</td>\n",
       "      <td>8.665250e+07</td>\n",
       "    </tr>\n",
       "    <tr>\n",
       "      <th>3959</th>\n",
       "      <td>151.470001</td>\n",
       "      <td>148.559998</td>\n",
       "      <td>151.190002</td>\n",
       "      <td>150.429993</td>\n",
       "      <td>9.593920e+07</td>\n",
       "    </tr>\n",
       "    <tr>\n",
       "      <th>3960</th>\n",
       "      <td>153.770004</td>\n",
       "      <td>149.639999</td>\n",
       "      <td>149.660004</td>\n",
       "      <td>150.770004</td>\n",
       "      <td>9.333940e+07</td>\n",
       "    </tr>\n",
       "    <tr>\n",
       "      <th>3961</th>\n",
       "      <td>154.720001</td>\n",
       "      <td>149.949997</td>\n",
       "      <td>152.740005</td>\n",
       "      <td>151.759995</td>\n",
       "      <td>8.444270e+07</td>\n",
       "    </tr>\n",
       "    <tr>\n",
       "      <th>3962</th>\n",
       "      <td>150.639999</td>\n",
       "      <td>144.839996</td>\n",
       "      <td>147.639999</td>\n",
       "      <td>149.839996</td>\n",
       "      <td>1.465145e+08</td>\n",
       "    </tr>\n",
       "  </tbody>\n",
       "</table>\n",
       "<p>3963 rows × 5 columns</p>\n",
       "</div>"
      ],
      "text/plain": [
       "            High         Low        Open       Close        Volume\n",
       "0       3.092143    2.925000    3.081786    2.992857  1.238320e+09\n",
       "1       3.069643    2.993571    3.001786    3.059286  8.472604e+08\n",
       "2       3.078571    3.014286    3.063214    3.037500  8.347416e+08\n",
       "3       3.090357    3.045714    3.070000    3.052500  7.971068e+08\n",
       "4       3.320714    3.041071    3.087500    3.306071  3.349298e+09\n",
       "...          ...         ...         ...         ...           ...\n",
       "3958  154.470001  150.910004  152.380005  152.740005  8.665250e+07\n",
       "3959  151.470001  148.559998  151.190002  150.429993  9.593920e+07\n",
       "3960  153.770004  149.639999  149.660004  150.770004  9.333940e+07\n",
       "3961  154.720001  149.949997  152.740005  151.759995  8.444270e+07\n",
       "3962  150.639999  144.839996  147.639999  149.839996  1.465145e+08\n",
       "\n",
       "[3963 rows x 5 columns]"
      ]
     },
     "execution_count": 7,
     "metadata": {},
     "output_type": "execute_result"
    }
   ],
   "source": [
    "df"
   ]
  },
  {
   "cell_type": "code",
   "execution_count": 8,
   "id": "cc84463e",
   "metadata": {},
   "outputs": [
    {
     "data": {
      "text/plain": [
       "0            NaN\n",
       "1            NaN\n",
       "2            NaN\n",
       "3            NaN\n",
       "4            NaN\n",
       "          ...   \n",
       "3958    152.1416\n",
       "3959    152.0663\n",
       "3960    151.9792\n",
       "3961    151.8366\n",
       "3962    151.7673\n",
       "Name: Close, Length: 3963, dtype: float64"
      ]
     },
     "execution_count": 8,
     "metadata": {},
     "output_type": "execute_result"
    }
   ],
   "source": [
    "ma100 = df.Close.rolling(100).mean()\n",
    "ma100"
   ]
  },
  {
   "cell_type": "code",
   "execution_count": 9,
   "id": "642db9c9",
   "metadata": {},
   "outputs": [
    {
     "data": {
      "text/plain": [
       "[<matplotlib.lines.Line2D at 0x1224a67a4d0>]"
      ]
     },
     "execution_count": 9,
     "metadata": {},
     "output_type": "execute_result"
    },
    {
     "data": {
      "image/png": "[encoded data removed]",
      "text/plain": [
       "<Figure size 1200x600 with 1 Axes>"
      ]
     },
     "metadata": {},
     "output_type": "display_data"
    }
   ],
   "source": [
    "plt.figure(figsize = (12,6))\n",
    "plt.plot(df.Close)\n",
    "plt.plot(ma100, 'r')"
   ]
  },
  {
   "cell_type": "code",
   "execution_count": 10,
   "id": "c7e0d4a4",
   "metadata": {},
   "outputs": [
    {
     "data": {
      "text/plain": [
       "0             NaN\n",
       "1             NaN\n",
       "2             NaN\n",
       "3             NaN\n",
       "4             NaN\n",
       "          ...    \n",
       "3958    160.69595\n",
       "3959    160.59220\n",
       "3960    160.47065\n",
       "3961    160.35665\n",
       "3962    160.20860\n",
       "Name: Close, Length: 3963, dtype: float64"
      ]
     },
     "execution_count": 10,
     "metadata": {},
     "output_type": "execute_result"
    }
   ],
   "source": [
    "ma200 = df.Close.rolling(200).mean()\n",
    "ma200"
   ]
  },
  {
   "cell_type": "code",
   "execution_count": 11,
   "id": "e83694d9",
   "metadata": {},
   "outputs": [
    {
     "data": {
      "text/plain": [
       "[<matplotlib.lines.Line2D at 0x1224a2b2fe0>]"
      ]
     },
     "execution_count": 11,
     "metadata": {},
     "output_type": "execute_result"
    },
    {
     "data": {
      "image/png": "[encoded data removed]",
      "text/plain": [
       "<Figure size 1200x600 with 1 Axes>"
      ]
     },
     "metadata": {},
     "output_type": "display_data"
    }
   ],
   "source": [
    "plt.figure(figsize = (12,6))\n",
    "plt.plot(df.Close)\n",
    "plt.plot(ma100, 'r')\n",
    "plt.plot(ma200, 'g')"
   ]
  },
  {
   "cell_type": "code",
   "execution_count": 12,
   "id": "23b2b936",
   "metadata": {},
   "outputs": [
    {
     "data": {
      "text/plain": [
       "(3963, 5)"
      ]
     },
     "execution_count": 12,
     "metadata": {},
     "output_type": "execute_result"
    }
   ],
   "source": [
    "df.shape"
   ]
  },
  {
   "cell_type": "code",
   "execution_count": 13,
   "id": "1a5293db",
   "metadata": {},
   "outputs": [
    {
     "name": "stdout",
     "output_type": "stream",
     "text": [
      "(2774, 1)\n",
      "(1189, 1)\n"
     ]
    }
   ],
   "source": [
    "# Splitting data into training and testing\n",
    "\n",
    "data_training = pd.DataFrame(df['Close'][0:int(len(df)*0.70)])\n",
    "data_testing = pd.DataFrame(df['Close'][int(len(df)*0.70): int(len(df))])\n",
    "\n",
    "print(data_training.shape)\n",
    "print(data_testing.shape)"
   ]
  },
  {
   "cell_type": "code",
   "execution_count": 14,
   "id": "631f174c",
   "metadata": {},
   "outputs": [
    {
     "data": {
      "text/html": [
       "<div>\n",
       "<style scoped>\n",
       "    .dataframe tbody tr th:only-of-type {\n",
       "        vertical-align: middle;\n",
       "    }\n",
       "\n",
       "    .dataframe tbody tr th {\n",
       "        vertical-align: top;\n",
       "    }\n",
       "\n",
       "    .dataframe thead th {\n",
       "        text-align: right;\n",
       "    }\n",
       "</style>\n",
       "<table border=\"1\" class=\"dataframe\">\n",
       "  <thead>\n",
       "    <tr style=\"text-align: right;\">\n",
       "      <th></th>\n",
       "      <th>Close</th>\n",
       "    </tr>\n",
       "  </thead>\n",
       "  <tbody>\n",
       "    <tr>\n",
       "      <th>0</th>\n",
       "      <td>2.992857</td>\n",
       "    </tr>\n",
       "    <tr>\n",
       "      <th>1</th>\n",
       "      <td>3.059286</td>\n",
       "    </tr>\n",
       "    <tr>\n",
       "      <th>2</th>\n",
       "      <td>3.037500</td>\n",
       "    </tr>\n",
       "    <tr>\n",
       "      <th>3</th>\n",
       "      <td>3.052500</td>\n",
       "    </tr>\n",
       "    <tr>\n",
       "      <th>4</th>\n",
       "      <td>3.306071</td>\n",
       "    </tr>\n",
       "  </tbody>\n",
       "</table>\n",
       "</div>"
      ],
      "text/plain": [
       "      Close\n",
       "0  2.992857\n",
       "1  3.059286\n",
       "2  3.037500\n",
       "3  3.052500\n",
       "4  3.306071"
      ]
     },
     "execution_count": 14,
     "metadata": {},
     "output_type": "execute_result"
    }
   ],
   "source": [
    "data_training.head()"
   ]
  },
  {
   "cell_type": "code",
   "execution_count": 15,
   "id": "c482d2c0",
   "metadata": {},
   "outputs": [
    {
     "data": {
      "text/html": [
       "<div>\n",
       "<style scoped>\n",
       "    .dataframe tbody tr th:only-of-type {\n",
       "        vertical-align: middle;\n",
       "    }\n",
       "\n",
       "    .dataframe tbody tr th {\n",
       "        vertical-align: top;\n",
       "    }\n",
       "\n",
       "    .dataframe thead th {\n",
       "        text-align: right;\n",
       "    }\n",
       "</style>\n",
       "<table border=\"1\" class=\"dataframe\">\n",
       "  <thead>\n",
       "    <tr style=\"text-align: right;\">\n",
       "      <th></th>\n",
       "      <th>Close</th>\n",
       "    </tr>\n",
       "  </thead>\n",
       "  <tbody>\n",
       "    <tr>\n",
       "      <th>2774</th>\n",
       "      <td>43.582500</td>\n",
       "    </tr>\n",
       "    <tr>\n",
       "      <th>2775</th>\n",
       "      <td>43.572498</td>\n",
       "    </tr>\n",
       "    <tr>\n",
       "      <th>2776</th>\n",
       "      <td>43.820000</td>\n",
       "    </tr>\n",
       "    <tr>\n",
       "      <th>2777</th>\n",
       "      <td>44.272499</td>\n",
       "    </tr>\n",
       "    <tr>\n",
       "      <th>2778</th>\n",
       "      <td>44.047501</td>\n",
       "    </tr>\n",
       "  </tbody>\n",
       "</table>\n",
       "</div>"
      ],
      "text/plain": [
       "          Close\n",
       "2774  43.582500\n",
       "2775  43.572498\n",
       "2776  43.820000\n",
       "2777  44.272499\n",
       "2778  44.047501"
      ]
     },
     "execution_count": 15,
     "metadata": {},
     "output_type": "execute_result"
    }
   ],
   "source": [
    "data_testing.head()"
   ]
  },
  {
   "cell_type": "code",
   "execution_count": 16,
   "id": "5f57746c",
   "metadata": {},
   "outputs": [],
   "source": [
    "from sklearn.preprocessing import MinMaxScaler\n",
    "scaler = MinMaxScaler(feature_range=(0,1))"
   ]
  },
  {
   "cell_type": "code",
   "execution_count": 17,
   "id": "3bf4b867",
   "metadata": {},
   "outputs": [
    {
     "data": {
      "text/plain": [
       "array([[0.00484119],\n",
       "       [0.00644917],\n",
       "       [0.00592182],\n",
       "       ...,\n",
       "       [0.97948545],\n",
       "       [0.9914069 ],\n",
       "       [0.98747346]])"
      ]
     },
     "execution_count": 17,
     "metadata": {},
     "output_type": "execute_result"
    }
   ],
   "source": [
    "data_training_array = scaler.fit_transform(data_training)\n",
    "data_training_array"
   ]
  },
  {
   "cell_type": "code",
   "execution_count": 19,
   "id": "ef0445ef",
   "metadata": {},
   "outputs": [
    {
     "data": {
      "text/plain": [
       "(2774, 1)"
      ]
     },
     "execution_count": 19,
     "metadata": {},
     "output_type": "execute_result"
    }
   ],
   "source": [
    "data_training_array.shape"
   ]
  },
  {
   "cell_type": "code",
   "execution_count": 18,
   "id": "246b24d6",
   "metadata": {},
   "outputs": [],
   "source": [
    "x_train = []\n",
    "y_train = []\n",
    "\n",
    "for i in range(100, data_training_array.shape[0]):\n",
    "    x_train.append(data_training_array[i-100: i])\n",
    "    y_train.append(data_training_array[i, 0])\n",
    "    \n",
    "x_train, y_train = np.array(x_train), np.array(y_train)"
   ]
  },
  {
   "cell_type": "code",
   "execution_count": 20,
   "id": "8ced12f5",
   "metadata": {},
   "outputs": [],
   "source": [
    " # ML Model"
   ]
  },
  {
   "cell_type": "code",
   "execution_count": 21,
   "id": "dd1b244d",
   "metadata": {},
   "outputs": [],
   "source": [
    "from keras.layers import Dense, Dropout , LSTM\n",
    "from keras.models import Sequential"
   ]
  },
  {
   "cell_type": "code",
   "execution_count": 23,
   "id": "d31817b3",
   "metadata": {},
   "outputs": [],
   "source": [
    "model = Sequential()\n",
    "model.add(LSTM(units = 50, activation = 'relu', return_sequences = True,\n",
    "              input_shape = (x_train.shape[1], 1)))\n",
    "model.add(Dropout(0.2))\n",
    "\n",
    "\n",
    "model.add(LSTM(units = 60, activation = 'relu', return_sequences = True))\n",
    "model.add(Dropout(0.3))\n",
    "\n",
    "\n",
    "model.add(LSTM(units = 80, activation = 'relu', return_sequences = True))\n",
    "model.add(Dropout(0.4))\n",
    "\n",
    "\n",
    "model.add(LSTM(units = 120, activation = 'relu'))\n",
    "model.add(Dropout(0.5))\n",
    "\n",
    "model.add(Dense(units = 1))\n"
   ]
  },
  {
   "cell_type": "code",
   "execution_count": 24,
   "id": "b0001f7b",
   "metadata": {},
   "outputs": [
    {
     "name": "stdout",
     "output_type": "stream",
     "text": [
      "Model: \"sequential_1\"\n",
      "_________________________________________________________________\n",
      " Layer (type)                Output Shape              Param #   \n",
      "=================================================================\n",
      " lstm_4 (LSTM)               (None, 100, 50)           10400     \n",
      "                                                                 \n",
      " dropout_4 (Dropout)         (None, 100, 50)           0         \n",
      "                                                                 \n",
      " lstm_5 (LSTM)               (None, 100, 60)           26640     \n",
      "                                                                 \n",
      " dropout_5 (Dropout)         (None, 100, 60)           0         \n",
      "                                                                 \n",
      " lstm_6 (LSTM)               (None, 100, 80)           45120     \n",
      "                                                                 \n",
      " dropout_6 (Dropout)         (None, 100, 80)           0         \n",
      "                                                                 \n",
      " lstm_7 (LSTM)               (None, 120)               96480     \n",
      "                                                                 \n",
      " dropout_7 (Dropout)         (None, 120)               0         \n",
      "                                                                 \n",
      " dense (Dense)               (None, 1)                 121       \n",
      "                                                                 \n",
      "=================================================================\n",
      "Total params: 178,761\n",
      "Trainable params: 178,761\n",
      "Non-trainable params: 0\n",
      "_________________________________________________________________\n"
     ]
    }
   ],
   "source": [
    "model.summary()"
   ]
  },
  {
   "cell_type": "code",
   "execution_count": 25,
   "id": "27c721b2",
   "metadata": {},
   "outputs": [
    {
     "name": "stdout",
     "output_type": "stream",
     "text": [
      "Epoch 1/50\n",
      "84/84 [==============================] - 36s 339ms/step - loss: 0.0245\n",
      "Epoch 2/50\n",
      "84/84 [==============================] - 28s 336ms/step - loss: 0.0058\n",
      "Epoch 3/50\n",
      "84/84 [==============================] - 29s 343ms/step - loss: 0.0055\n",
      "Epoch 4/50\n",
      "84/84 [==============================] - 29s 341ms/step - loss: 0.0051\n",
      "Epoch 5/50\n",
      "84/84 [==============================] - 29s 342ms/step - loss: 0.0050\n",
      "Epoch 6/50\n",
      "84/84 [==============================] - 28s 337ms/step - loss: 0.0044\n",
      "Epoch 7/50\n",
      "84/84 [==============================] - 28s 339ms/step - loss: 0.0041\n",
      "Epoch 8/50\n",
      "84/84 [==============================] - 28s 335ms/step - loss: 0.0038\n",
      "Epoch 9/50\n",
      "84/84 [==============================] - 28s 338ms/step - loss: 0.0035\n",
      "Epoch 10/50\n",
      "84/84 [==============================] - 28s 338ms/step - loss: 0.0036\n",
      "Epoch 11/50\n",
      "84/84 [==============================] - 28s 338ms/step - loss: 0.0033\n",
      "Epoch 12/50\n",
      "84/84 [==============================] - 28s 337ms/step - loss: 0.0035\n",
      "Epoch 13/50\n",
      "84/84 [==============================] - 28s 335ms/step - loss: 0.0033\n",
      "Epoch 14/50\n",
      "84/84 [==============================] - 28s 336ms/step - loss: 0.0029\n",
      "Epoch 15/50\n",
      "84/84 [==============================] - 28s 334ms/step - loss: 0.0032\n",
      "Epoch 16/50\n",
      "84/84 [==============================] - 28s 333ms/step - loss: 0.0029\n",
      "Epoch 17/50\n",
      "84/84 [==============================] - 27s 321ms/step - loss: 0.0029\n",
      "Epoch 18/50\n",
      "84/84 [==============================] - 27s 325ms/step - loss: 0.0026\n",
      "Epoch 19/50\n",
      "84/84 [==============================] - 27s 327ms/step - loss: 0.0025\n",
      "Epoch 20/50\n",
      "84/84 [==============================] - 27s 325ms/step - loss: 0.0024\n",
      "Epoch 21/50\n",
      "84/84 [==============================] - 27s 326ms/step - loss: 0.0026\n",
      "Epoch 22/50\n",
      "84/84 [==============================] - 27s 325ms/step - loss: 0.0026\n",
      "Epoch 23/50\n",
      "84/84 [==============================] - 27s 327ms/step - loss: 0.0025\n",
      "Epoch 24/50\n",
      "84/84 [==============================] - 27s 325ms/step - loss: 0.0024\n",
      "Epoch 25/50\n",
      "84/84 [==============================] - 27s 327ms/step - loss: 0.0025\n",
      "Epoch 26/50\n",
      "84/84 [==============================] - 28s 328ms/step - loss: 0.0022\n",
      "Epoch 27/50\n",
      "84/84 [==============================] - 28s 328ms/step - loss: 0.0022\n",
      "Epoch 28/50\n",
      "84/84 [==============================] - 27s 326ms/step - loss: 0.0022\n",
      "Epoch 29/50\n",
      "84/84 [==============================] - 27s 322ms/step - loss: 0.0023\n",
      "Epoch 30/50\n",
      "84/84 [==============================] - 27s 327ms/step - loss: 0.0021\n",
      "Epoch 31/50\n",
      "84/84 [==============================] - 28s 329ms/step - loss: 0.0020\n",
      "Epoch 32/50\n",
      "84/84 [==============================] - 27s 327ms/step - loss: 0.0023\n",
      "Epoch 33/50\n",
      "84/84 [==============================] - 28s 328ms/step - loss: 0.0021\n",
      "Epoch 34/50\n",
      "84/84 [==============================] - 27s 325ms/step - loss: 0.0020\n",
      "Epoch 35/50\n",
      "84/84 [==============================] - 27s 323ms/step - loss: 0.0022\n",
      "Epoch 36/50\n",
      "84/84 [==============================] - 27s 324ms/step - loss: 0.0021\n",
      "Epoch 37/50\n",
      "84/84 [==============================] - 27s 324ms/step - loss: 0.0021\n",
      "Epoch 38/50\n",
      "84/84 [==============================] - 27s 321ms/step - loss: 0.0025\n",
      "Epoch 39/50\n",
      "84/84 [==============================] - 27s 323ms/step - loss: 0.0020\n",
      "Epoch 40/50\n",
      "84/84 [==============================] - 27s 324ms/step - loss: 0.0021\n",
      "Epoch 41/50\n",
      "84/84 [==============================] - 27s 323ms/step - loss: 0.0022\n",
      "Epoch 42/50\n",
      "84/84 [==============================] - 27s 325ms/step - loss: 0.0021\n",
      "Epoch 43/50\n",
      "84/84 [==============================] - 27s 327ms/step - loss: 0.0021\n",
      "Epoch 44/50\n",
      "84/84 [==============================] - 27s 325ms/step - loss: 0.0020\n",
      "Epoch 45/50\n",
      "84/84 [==============================] - 27s 326ms/step - loss: 0.0020\n",
      "Epoch 46/50\n",
      "84/84 [==============================] - 27s 323ms/step - loss: 0.0021\n",
      "Epoch 47/50\n",
      "84/84 [==============================] - 27s 322ms/step - loss: 0.0020\n",
      "Epoch 48/50\n",
      "84/84 [==============================] - 24s 290ms/step - loss: 0.0021\n",
      "Epoch 49/50\n",
      "84/84 [==============================] - 18s 216ms/step - loss: 0.0020\n",
      "Epoch 50/50\n",
      "84/84 [==============================] - 21s 249ms/step - loss: 0.0020\n"
     ]
    },
    {
     "data": {
      "text/plain": [
       "<keras.callbacks.History at 0x122639bb280>"
      ]
     },
     "execution_count": 25,
     "metadata": {},
     "output_type": "execute_result"
    }
   ],
   "source": [
    "model.compile(optimizer='adam', loss = 'mean_squared_error')\n",
    "model.fit(x_train, y_train, epochs = 50)"
   ]
  },
  {
   "cell_type": "code",
   "execution_count": 26,
   "id": "99e32271",
   "metadata": {},
   "outputs": [],
   "source": [
    "model.save('keras_model.h5')"
   ]
  },
  {
   "cell_type": "code",
   "execution_count": 27,
   "id": "cb3eaf12",
   "metadata": {},
   "outputs": [
    {
     "data": {
      "text/html": [
       "<div>\n",
       "<style scoped>\n",
       "    .dataframe tbody tr th:only-of-type {\n",
       "        vertical-align: middle;\n",
       "    }\n",
       "\n",
       "    .dataframe tbody tr th {\n",
       "        vertical-align: top;\n",
       "    }\n",
       "\n",
       "    .dataframe thead th {\n",
       "        text-align: right;\n",
       "    }\n",
       "</style>\n",
       "<table border=\"1\" class=\"dataframe\">\n",
       "  <thead>\n",
       "    <tr style=\"text-align: right;\">\n",
       "      <th></th>\n",
       "      <th>Close</th>\n",
       "    </tr>\n",
       "  </thead>\n",
       "  <tbody>\n",
       "    <tr>\n",
       "      <th>2774</th>\n",
       "      <td>43.582500</td>\n",
       "    </tr>\n",
       "    <tr>\n",
       "      <th>2775</th>\n",
       "      <td>43.572498</td>\n",
       "    </tr>\n",
       "    <tr>\n",
       "      <th>2776</th>\n",
       "      <td>43.820000</td>\n",
       "    </tr>\n",
       "    <tr>\n",
       "      <th>2777</th>\n",
       "      <td>44.272499</td>\n",
       "    </tr>\n",
       "    <tr>\n",
       "      <th>2778</th>\n",
       "      <td>44.047501</td>\n",
       "    </tr>\n",
       "  </tbody>\n",
       "</table>\n",
       "</div>"
      ],
      "text/plain": [
       "          Close\n",
       "2774  43.582500\n",
       "2775  43.572498\n",
       "2776  43.820000\n",
       "2777  44.272499\n",
       "2778  44.047501"
      ]
     },
     "execution_count": 27,
     "metadata": {},
     "output_type": "execute_result"
    }
   ],
   "source": [
    "data_testing.head()"
   ]
  },
  {
   "cell_type": "code",
   "execution_count": 28,
   "id": "4acd2177",
   "metadata": {},
   "outputs": [
    {
     "data": {
      "text/html": [
       "<div>\n",
       "<style scoped>\n",
       "    .dataframe tbody tr th:only-of-type {\n",
       "        vertical-align: middle;\n",
       "    }\n",
       "\n",
       "    .dataframe tbody tr th {\n",
       "        vertical-align: top;\n",
       "    }\n",
       "\n",
       "    .dataframe thead th {\n",
       "        text-align: right;\n",
       "    }\n",
       "</style>\n",
       "<table border=\"1\" class=\"dataframe\">\n",
       "  <thead>\n",
       "    <tr style=\"text-align: right;\">\n",
       "      <th></th>\n",
       "      <th>Close</th>\n",
       "    </tr>\n",
       "  </thead>\n",
       "  <tbody>\n",
       "    <tr>\n",
       "      <th>2674</th>\n",
       "      <td>40.237499</td>\n",
       "    </tr>\n",
       "    <tr>\n",
       "      <th>2675</th>\n",
       "      <td>39.465000</td>\n",
       "    </tr>\n",
       "    <tr>\n",
       "      <th>2676</th>\n",
       "      <td>39.375000</td>\n",
       "    </tr>\n",
       "    <tr>\n",
       "      <th>2677</th>\n",
       "      <td>39.302502</td>\n",
       "    </tr>\n",
       "    <tr>\n",
       "      <th>2678</th>\n",
       "      <td>39.945000</td>\n",
       "    </tr>\n",
       "    <tr>\n",
       "      <th>...</th>\n",
       "      <td>...</td>\n",
       "    </tr>\n",
       "    <tr>\n",
       "      <th>2769</th>\n",
       "      <td>43.064999</td>\n",
       "    </tr>\n",
       "    <tr>\n",
       "      <th>2770</th>\n",
       "      <td>43.057499</td>\n",
       "    </tr>\n",
       "    <tr>\n",
       "      <th>2771</th>\n",
       "      <td>43.257500</td>\n",
       "    </tr>\n",
       "    <tr>\n",
       "      <th>2772</th>\n",
       "      <td>43.750000</td>\n",
       "    </tr>\n",
       "    <tr>\n",
       "      <th>2773</th>\n",
       "      <td>43.587502</td>\n",
       "    </tr>\n",
       "  </tbody>\n",
       "</table>\n",
       "<p>100 rows × 1 columns</p>\n",
       "</div>"
      ],
      "text/plain": [
       "          Close\n",
       "2674  40.237499\n",
       "2675  39.465000\n",
       "2676  39.375000\n",
       "2677  39.302502\n",
       "2678  39.945000\n",
       "...         ...\n",
       "2769  43.064999\n",
       "2770  43.057499\n",
       "2771  43.257500\n",
       "2772  43.750000\n",
       "2773  43.587502\n",
       "\n",
       "[100 rows x 1 columns]"
      ]
     },
     "execution_count": 28,
     "metadata": {},
     "output_type": "execute_result"
    }
   ],
   "source": [
    "data_training.tail(100)"
   ]
  },
  {
   "cell_type": "code",
   "execution_count": 29,
   "id": "f676a9fe",
   "metadata": {},
   "outputs": [],
   "source": [
    "past_100_days = data_training.tail(100)"
   ]
  },
  {
   "cell_type": "code",
   "execution_count": 30,
   "id": "7ea0e124",
   "metadata": {},
   "outputs": [
    {
     "name": "stderr",
     "output_type": "stream",
     "text": [
      "C:\\Users\\shubh\\AppData\\Local\\Temp\\ipykernel_12752\\531349220.py:1: FutureWarning: The frame.append method is deprecated and will be removed from pandas in a future version. Use pandas.concat instead.\n",
      "  final_df = past_100_days.append(data_testing, ignore_index=True)\n"
     ]
    }
   ],
   "source": [
    "final_df = past_100_days.append(data_testing, ignore_index=True)"
   ]
  },
  {
   "cell_type": "code",
   "execution_count": 31,
   "id": "e5d2683c",
   "metadata": {},
   "outputs": [
    {
     "data": {
      "text/html": [
       "<div>\n",
       "<style scoped>\n",
       "    .dataframe tbody tr th:only-of-type {\n",
       "        vertical-align: middle;\n",
       "    }\n",
       "\n",
       "    .dataframe tbody tr th {\n",
       "        vertical-align: top;\n",
       "    }\n",
       "\n",
       "    .dataframe thead th {\n",
       "        text-align: right;\n",
       "    }\n",
       "</style>\n",
       "<table border=\"1\" class=\"dataframe\">\n",
       "  <thead>\n",
       "    <tr style=\"text-align: right;\">\n",
       "      <th></th>\n",
       "      <th>Close</th>\n",
       "    </tr>\n",
       "  </thead>\n",
       "  <tbody>\n",
       "    <tr>\n",
       "      <th>0</th>\n",
       "      <td>40.237499</td>\n",
       "    </tr>\n",
       "    <tr>\n",
       "      <th>1</th>\n",
       "      <td>39.465000</td>\n",
       "    </tr>\n",
       "    <tr>\n",
       "      <th>2</th>\n",
       "      <td>39.375000</td>\n",
       "    </tr>\n",
       "    <tr>\n",
       "      <th>3</th>\n",
       "      <td>39.302502</td>\n",
       "    </tr>\n",
       "    <tr>\n",
       "      <th>4</th>\n",
       "      <td>39.945000</td>\n",
       "    </tr>\n",
       "  </tbody>\n",
       "</table>\n",
       "</div>"
      ],
      "text/plain": [
       "       Close\n",
       "0  40.237499\n",
       "1  39.465000\n",
       "2  39.375000\n",
       "3  39.302502\n",
       "4  39.945000"
      ]
     },
     "execution_count": 31,
     "metadata": {},
     "output_type": "execute_result"
    }
   ],
   "source": [
    "final_df.head()"
   ]
  },
  {
   "cell_type": "code",
   "execution_count": 32,
   "id": "91b80605",
   "metadata": {},
   "outputs": [
    {
     "data": {
      "text/plain": [
       "array([[0.03202184],\n",
       "       [0.02674746],\n",
       "       [0.02613297],\n",
       "       ...,\n",
       "       [0.78670314],\n",
       "       [0.79346248],\n",
       "       [0.78035334]])"
      ]
     },
     "execution_count": 32,
     "metadata": {},
     "output_type": "execute_result"
    }
   ],
   "source": [
    "input_data = scaler.fit_transform(final_df)\n",
    "input_data"
   ]
  },
  {
   "cell_type": "code",
   "execution_count": 33,
   "id": "b4553759",
   "metadata": {},
   "outputs": [
    {
     "data": {
      "text/plain": [
       "(1289, 1)"
      ]
     },
     "execution_count": 33,
     "metadata": {},
     "output_type": "execute_result"
    }
   ],
   "source": [
    "input_data.shape"
   ]
  },
  {
   "cell_type": "code",
   "execution_count": 34,
   "id": "44ad90ca",
   "metadata": {},
   "outputs": [],
   "source": [
    "x_test = []\n",
    "y_test = []\n",
    "\n",
    "for i in range(100, input_data.shape[0]):\n",
    "    x_test.append(input_data[i-100: i])\n",
    "    y_test.append(input_data[i, 0])"
   ]
  },
  {
   "cell_type": "code",
   "execution_count": 35,
   "id": "fa257264",
   "metadata": {},
   "outputs": [
    {
     "name": "stdout",
     "output_type": "stream",
     "text": [
      "(1189, 100, 1)\n",
      "(1189,)\n"
     ]
    }
   ],
   "source": [
    "x_test, y_test = np.array(x_test), np.array(y_test)\n",
    "print(x_test.shape)\n",
    "print(y_test.shape)"
   ]
  },
  {
   "cell_type": "code",
   "execution_count": 36,
   "id": "6fa3d7d7",
   "metadata": {},
   "outputs": [
    {
     "name": "stdout",
     "output_type": "stream",
     "text": [
      "38/38 [==============================] - 2s 44ms/step\n"
     ]
    }
   ],
   "source": [
    "# Making predictions\n",
    "\n",
    "y_predicted = model.predict(x_test)"
   ]
  },
  {
   "cell_type": "code",
   "execution_count": 37,
   "id": "86c88d5a",
   "metadata": {},
   "outputs": [
    {
     "data": {
      "text/plain": [
       "(1189, 1)"
      ]
     },
     "execution_count": 37,
     "metadata": {},
     "output_type": "execute_result"
    }
   ],
   "source": [
    "y_predicted.shape"
   ]
  },
  {
   "cell_type": "code",
   "execution_count": 38,
   "id": "a07d96c4",
   "metadata": {},
   "outputs": [
    {
     "data": {
      "text/plain": [
       "array([0.05486046, 0.05479217, 0.05648203, ..., 0.78670314, 0.79346248,\n",
       "       0.78035334])"
      ]
     },
     "execution_count": 38,
     "metadata": {},
     "output_type": "execute_result"
    }
   ],
   "source": [
    "y_test"
   ]
  },
  {
   "cell_type": "code",
   "execution_count": 39,
   "id": "4d358e1f",
   "metadata": {},
   "outputs": [
    {
     "data": {
      "text/plain": [
       "array([[0.12748605],\n",
       "       [0.12761611],\n",
       "       [0.12774917],\n",
       "       ...,\n",
       "       [0.7670084 ],\n",
       "       [0.76437306],\n",
       "       [0.7614522 ]], dtype=float32)"
      ]
     },
     "execution_count": 39,
     "metadata": {},
     "output_type": "execute_result"
    }
   ],
   "source": [
    "y_predicted"
   ]
  },
  {
   "cell_type": "code",
   "execution_count": 40,
   "id": "62a9db62",
   "metadata": {},
   "outputs": [
    {
     "data": {
      "text/plain": [
       "array([0.00682769])"
      ]
     },
     "execution_count": 40,
     "metadata": {},
     "output_type": "execute_result"
    }
   ],
   "source": [
    "scaler.scale_"
   ]
  },
  {
   "cell_type": "code",
   "execution_count": 42,
   "id": "cb936beb",
   "metadata": {},
   "outputs": [],
   "source": [
    "scale_factor = 1/0.00682769\n",
    "y_predicted = y_predicted * scale_factor\n",
    "y_test = y_test * scale_factor"
   ]
  },
  {
   "cell_type": "code",
   "execution_count": 43,
   "id": "58c574ba",
   "metadata": {},
   "outputs": [
    {
     "data": {
      "image/png": "[encoded data removed]",
      "text/plain": [
       "<Figure size 1200x600 with 1 Axes>"
      ]
     },
     "metadata": {},
     "output_type": "display_data"
    }
   ],
   "source": [
    "plt.figure(figsize=(12,6))\n",
    "plt.plot(y_test, 'b', label = 'Original Price')\n",
    "plt.plot(y_predicted, 'r', label = 'Predicted Price')\n",
    "plt.xlabel('Time')\n",
    "plt.ylabel('Price')\n",
    "plt.legend()\n",
    "plt.show()"
   ]
  },
  {
   "cell_type": "code",
   "execution_count": null,
   "id": "e3ea4219",
   "metadata": {},
   "outputs": [],
   "source": []
  }
 ],
 "metadata": {
  "kernelspec": {
   "display_name": "Python 3",
   "language": "python",
   "name": "python3"
  },
  "language_info": {
   "codemirror_mode": {
    "name": "ipython",
    "version": 3
   },
   "file_extension": ".py",
   "mimetype": "text/x-python",
   "name": "python",
   "nbconvert_exporter": "python",
   "pygments_lexer": "ipython3",
   "version": "3.9.13 (tags/v3.9.13:6de2ca5, May 17 2022, 16:36:42) [MSC v.1929 64 bit (AMD64)]"
  },
  "vscode": {
   "interpreter": {
    "hash": "2bb924a60f8ea68644dcb0563c1b2f0b2877cfd035610fec8a71baa0d884f36a"
   }
  }
 },
 "nbformat": 4,
 "nbformat_minor": 5
}
